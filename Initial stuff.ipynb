{
 "cells": [
  {
   "cell_type": "markdown",
   "metadata": {},
   "source": [
    "# Idea\n",
    "\n",
    "Want to create a program which can tell me what items from the tinkers workship can be created in prehardmode"
   ]
  },
  {
   "cell_type": "code",
   "execution_count": null,
   "metadata": {},
   "outputs": [],
   "source": []
  },
  {
   "cell_type": "markdown",
   "metadata": {},
   "source": [
    "Steps:\n",
    "\n",
    "- get list of prehard mode only items\n",
    "- get list of hardmode only items\n",
    "- get recipies from tinkers workshop\n",
    "- add if ingredient is a prehard mode or hardmode item\n",
    "- if all ingred are prehard more then result is prehardmode item\n",
    "\n",
    "end phase 1- just list of the prehardmode results with reciepies\n",
    "end phase 2- type items into and get result\n",
    "end phase 3- itendify the missing items for results with links to corresponding objects\n"
   ]
  },
  {
   "cell_type": "code",
   "execution_count": 1,
   "metadata": {},
   "outputs": [],
   "source": [
    "#allow code blocks to display multiple outputs in single block\n",
    "from IPython.core.interactiveshell import InteractiveShell\n",
    "InteractiveShell.ast_node_interactivity = \"all\""
   ]
  },
  {
   "cell_type": "code",
   "execution_count": 2,
   "metadata": {},
   "outputs": [],
   "source": [
    "url = 'http://books.toscrape.com/catalogue/a-light-in-the-attic_1000/index.html'\n",
    "url_ph='https://terraria.fandom.com/wiki/Pre-Hardmode_items'\n",
    "url_t='https://terraria.fandom.com/wiki/Tinkerer%27s_Workshop'"
   ]
  },
  {
   "cell_type": "markdown",
   "metadata": {},
   "source": [
    "# Test"
   ]
  },
  {
   "cell_type": "code",
   "execution_count": null,
   "metadata": {},
   "outputs": [],
   "source": []
  },
  {
   "cell_type": "code",
   "execution_count": 3,
   "metadata": {},
   "outputs": [],
   "source": [
    "#mode==0 means pre hard mode, #mode ==1, hardmode\n",
    "\n",
    "goalitemID_MODE={ #  OBJ#:{\"ID\": <int>, \"Name\": <str>, \"Internal Name\": <str>, \"Mode\" = boolean}\n",
    "    1: {\"Name\": \"Iron Pickaxe\",  \"Internal Name\": \"IronPickaxe\", \"mode\": 0}\n",
    "}\n",
    "\n",
    "itemID= { # item ID: P{}\n",
    "    1: {\"Name\": \"Iron Pickaxe\",  \"Internal Name\": \"IronPickaxe\"},\n",
    "    2 :{\"Name\": \"Dirt Block\",  \"Internal Name\": \"DirtBlock\"}\n",
    "    \n",
    "}\n",
    "\n",
    "itemMODE = {\n",
    "    4: {\"Name\": \"Iron Pickaxe\", \"mode\":0}\n",
    "\n",
    "}"
   ]
  },
  {
   "cell_type": "code",
   "execution_count": 4,
   "metadata": {
    "scrolled": false
   },
   "outputs": [
    {
     "data": {
      "text/plain": [
       "'# https://www.learnbyexample.org/python-nested-dictionary/#:~:text=Merge%20Two%20Nested%20Dictionaries%20Use%20the%20built-in%20update,of%20the%20same%20key%20if%20there%E2%80%99s%20a%20clash.\\nIDs=[]\\nfor i in len(itemID):\\n    IDS[i]=itemID[i][\"ID\"]\\n'"
      ]
     },
     "execution_count": 4,
     "metadata": {},
     "output_type": "execute_result"
    }
   ],
   "source": [
    "\"\"\"# https://www.learnbyexample.org/python-nested-dictionary/#:~:text=Merge%20Two%20Nested%20Dictionaries%20Use%20the%20built-in%20update,of%20the%20same%20key%20if%20there%E2%80%99s%20a%20clash.\n",
    "IDs=[]\n",
    "for i in len(itemID):\n",
    "    IDS[i]=itemID[i][\"ID\"]\n",
    "\"\"\""
   ]
  },
  {
   "cell_type": "markdown",
   "metadata": {},
   "source": [
    "# scraper\n"
   ]
  },
  {
   "cell_type": "markdown",
   "metadata": {},
   "source": [
    "https://stackoverflow.com/questions/42863834/how-to-scrape-data-from-html-table-in-python\n",
    "\n",
    "\n",
    "https://stackoverflow.com/questions/17126686/extracting-data-from-html-with-python#:~:text=tabulka%20%3D%20subpage.find%20%28%22table%22%29%20for%20row%20in%20tabulka.findAll,array.%20Html%20above%20is%20a%20result%20from%20python.\n",
    "\n",
    "https://www.geeksforgeeks.org/rule-based-data-extraction-in-html-using-python-textminer-module/\n",
    "\n"
   ]
  },
  {
   "cell_type": "code",
   "execution_count": 5,
   "metadata": {},
   "outputs": [],
   "source": [
    "# website test\n",
    "# http://books.toscrape.com/catalogue/a-light-in-the-attic_1000/index.html"
   ]
  },
  {
   "cell_type": "code",
   "execution_count": 6,
   "metadata": {},
   "outputs": [
    {
     "data": {
      "text/plain": [
       "'df_ph=pd.read_html(url_ph)\\ndf_ph'"
      ]
     },
     "execution_count": 6,
     "metadata": {},
     "output_type": "execute_result"
    }
   ],
   "source": [
    "import pandas as pd\n",
    "import html5lib\n",
    "import ssl\n",
    "\n",
    "#ssl._create_default_https_context = ssl._create_unverified_context\n",
    "\"\"\"df_ph=pd.read_html(url_ph)\n",
    "df_ph\"\"\""
   ]
  },
  {
   "cell_type": "code",
   "execution_count": 8,
   "metadata": {},
   "outputs": [
    {
     "data": {
      "text/plain": [
       "'for i in range(len(df_t)):\\n    df_t[i]'"
      ]
     },
     "execution_count": 8,
     "metadata": {},
     "output_type": "execute_result"
    }
   ],
   "source": [
    "df_t =pd.read_html(url_t)\n",
    "\n",
    "#print(df_t)\n",
    "\n",
    "\"\"\"for i in range(len(df_t)):\n",
    "    df_t[i]\"\"\""
   ]
  },
  {
   "cell_type": "markdown",
   "metadata": {},
   "source": [
    "## Problem is that the incrediants are all clumped together"
   ]
  },
  {
   "cell_type": "code",
   "execution_count": 9,
   "metadata": {},
   "outputs": [
    {
     "ename": "NameError",
     "evalue": "name 'url2' is not defined",
     "output_type": "error",
     "traceback": [
      "\u001b[1;31m---------------------------------------------------------------------------\u001b[0m",
      "\u001b[1;31mNameError\u001b[0m                                 Traceback (most recent call last)",
      "\u001b[1;32m<ipython-input-9-e589d70a344a>\u001b[0m in \u001b[0;36m<module>\u001b[1;34m\u001b[0m\n\u001b[0;32m      3\u001b[0m \u001b[1;32mimport\u001b[0m \u001b[0mrequests\u001b[0m\u001b[1;33m\u001b[0m\u001b[1;33m\u001b[0m\u001b[0m\n\u001b[0;32m      4\u001b[0m \u001b[1;33m\u001b[0m\u001b[0m\n\u001b[1;32m----> 5\u001b[1;33m \u001b[0mpage\u001b[0m\u001b[1;33m=\u001b[0m\u001b[0mrequests\u001b[0m\u001b[1;33m.\u001b[0m\u001b[0mget\u001b[0m\u001b[1;33m(\u001b[0m\u001b[0murl2\u001b[0m\u001b[1;33m)\u001b[0m\u001b[1;33m\u001b[0m\u001b[1;33m\u001b[0m\u001b[0m\n\u001b[0m",
      "\u001b[1;31mNameError\u001b[0m: name 'url2' is not defined"
     ]
    }
   ],
   "source": [
    "#https://github.com/yuanxu-li/html-table-extractor\n",
    "\n",
    "import requests\n",
    "\n",
    "page=requests.get(url2)"
   ]
  },
  {
   "cell_type": "code",
   "execution_count": null,
   "metadata": {},
   "outputs": [],
   "source": [
    "from html_table_extractor.extractor import Extractor as ext\n",
    "\n",
    "extractor = ext(page.content)\n",
    "extractor.parse()\n",
    "extractor.return_list()"
   ]
  },
  {
   "cell_type": "code",
   "execution_count": 10,
   "metadata": {},
   "outputs": [
    {
     "data": {
      "text/plain": [
       "<html_table_extractor.extractor.Extractor at 0x2c2aa39cbb0>"
      ]
     },
     "execution_count": 10,
     "metadata": {},
     "output_type": "execute_result"
    },
    {
     "data": {
      "text/plain": [
       "[['1', '2'], ['3', '4']]"
      ]
     },
     "execution_count": 10,
     "metadata": {},
     "output_type": "execute_result"
    }
   ],
   "source": [
    "from html_table_extractor.extractor import Extractor\n",
    "table_doc = \"\"\"\n",
    "<table><tr><td>1</td><td>2</td></tr><tr><td>3</td><td>4</td></tr></table>\n",
    "\"\"\"\n",
    "extractor = Extractor(table_doc)\n",
    "extractor.parse()\n",
    "extractor.return_list()"
   ]
  },
  {
   "cell_type": "code",
   "execution_count": null,
   "metadata": {},
   "outputs": [],
   "source": []
  },
  {
   "cell_type": "code",
   "execution_count": null,
   "metadata": {},
   "outputs": [],
   "source": []
  }
 ],
 "metadata": {
  "kernelspec": {
   "display_name": "Python 3",
   "language": "python",
   "name": "python3"
  },
  "language_info": {
   "codemirror_mode": {
    "name": "ipython",
    "version": 3
   },
   "file_extension": ".py",
   "mimetype": "text/x-python",
   "name": "python",
   "nbconvert_exporter": "python",
   "pygments_lexer": "ipython3",
   "version": "3.8.5"
  }
 },
 "nbformat": 4,
 "nbformat_minor": 5
}
