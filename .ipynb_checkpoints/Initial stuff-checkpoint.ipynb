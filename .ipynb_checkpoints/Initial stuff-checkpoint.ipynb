{
 "cells": [
  {
   "cell_type": "markdown",
   "metadata": {},
   "source": [
    "# Idea\n",
    "\n",
    "Want to create a program which can tell me what items from the tinkers workship can be created in prehardmode"
   ]
  },
  {
   "cell_type": "markdown",
   "metadata": {},
   "source": [
    "Steps:\n",
    "\n",
    "- get list of prehard mode only items\n",
    "- get list of hardmode only items\n",
    "- get recipies from tinkers workshop\n",
    "- add if ingredient is a prehard mode or hardmode item\n",
    "- if all ingred are prehard more then result is prehardmode item\n",
    "\n",
    "end phase 1- just list of the prehardmode results with reciepies\n",
    "\n",
    "end phase 2- type items into and get result\n",
    "\n",
    "end phase 3- itendify the missing items for results with links to corresponding objects\n"
   ]
  },
  {
   "cell_type": "code",
   "execution_count": 1,
   "metadata": {},
   "outputs": [],
   "source": [
    "#allow code blocks to display multiple outputs in single block\n",
    "from IPython.core.interactiveshell import InteractiveShell\n",
    "InteractiveShell.ast_node_interactivity = \"all\""
   ]
  },
  {
   "cell_type": "code",
   "execution_count": 2,
   "metadata": {},
   "outputs": [],
   "source": [
    "url = 'http://books.toscrape.com/catalogue/a-light-in-the-attic_1000/index.html'\n",
    "url_ph='https://terraria.fandom.com/wiki/Pre-Hardmode_items'\n",
    "url_t='https://terraria.fandom.com/wiki/Tinkerer%27s_Workshop'"
   ]
  },
  {
   "cell_type": "markdown",
   "metadata": {},
   "source": [
    "# Test"
   ]
  },
  {
   "cell_type": "code",
   "execution_count": null,
   "metadata": {},
   "outputs": [],
   "source": []
  },
  {
   "cell_type": "code",
   "execution_count": 3,
   "metadata": {},
   "outputs": [],
   "source": [
    "#mode==0 means pre hard mode, #mode ==1, hardmode\n",
    "\n",
    "goalitemID_MODE={ #  OBJ#:{\"ID\": <int>, \"Name\": <str>, \"Internal Name\": <str>, \"Mode\" = boolean}\n",
    "    1: {\"Name\": \"Iron Pickaxe\",  \"Internal Name\": \"IronPickaxe\", \"mode\": 0}\n",
    "}\n",
    "\n",
    "itemID= { # item ID: P{}\n",
    "    1: {\"Name\": \"Iron Pickaxe\",  \"Internal Name\": \"IronPickaxe\"},\n",
    "    2 :{\"Name\": \"Dirt Block\",  \"Internal Name\": \"DirtBlock\"}\n",
    "    \n",
    "}\n",
    "\n",
    "itemMODE = {\n",
    "    4: {\"Name\": \"Iron Pickaxe\", \"mode\":0}\n",
    "\n",
    "}"
   ]
  },
  {
   "cell_type": "code",
   "execution_count": 4,
   "metadata": {
    "scrolled": false
   },
   "outputs": [
    {
     "data": {
      "text/plain": [
       "'# https://www.learnbyexample.org/python-nested-dictionary/#:~:text=Merge%20Two%20Nested%20Dictionaries%20Use%20the%20built-in%20update,of%20the%20same%20key%20if%20there%E2%80%99s%20a%20clash.\\nIDs=[]\\nfor i in len(itemID):\\n    IDS[i]=itemID[i][\"ID\"]\\n'"
      ]
     },
     "execution_count": 4,
     "metadata": {},
     "output_type": "execute_result"
    }
   ],
   "source": [
    "\"\"\"# https://www.learnbyexample.org/python-nested-dictionary/#:~:text=Merge%20Two%20Nested%20Dictionaries%20Use%20the%20built-in%20update,of%20the%20same%20key%20if%20there%E2%80%99s%20a%20clash.\n",
    "IDs=[]\n",
    "for i in len(itemID):\n",
    "    IDS[i]=itemID[i][\"ID\"]\n",
    "\"\"\""
   ]
  },
  {
   "cell_type": "markdown",
   "metadata": {},
   "source": [
    "# scraper\n"
   ]
  },
  {
   "cell_type": "markdown",
   "metadata": {},
   "source": [
    "https://stackoverflow.com/questions/42863834/how-to-scrape-data-from-html-table-in-python\n",
    "\n",
    "\n",
    "https://stackoverflow.com/questions/17126686/extracting-data-from-html-with-python#:~:text=tabulka%20%3D%20subpage.find%20%28%22table%22%29%20for%20row%20in%20tabulka.findAll,array.%20Html%20above%20is%20a%20result%20from%20python.\n",
    "\n",
    "https://www.geeksforgeeks.org/rule-based-data-extraction-in-html-using-python-textminer-module/\n",
    "\n"
   ]
  },
  {
   "cell_type": "code",
   "execution_count": 5,
   "metadata": {},
   "outputs": [],
   "source": [
    "# website test\n",
    "# http://books.toscrape.com/catalogue/a-light-in-the-attic_1000/index.html"
   ]
  },
  {
   "cell_type": "code",
   "execution_count": 18,
   "metadata": {},
   "outputs": [
    {
     "name": "stdout",
     "output_type": "stream",
     "text": [
      "4.5.3\n",
      "1.4.2\n"
     ]
    }
   ],
   "source": [
    "import pandas as pd\n",
    "import bs4\n",
    "print(bs4.__version__)\n",
    "print(pd.__version__)"
   ]
  },
  {
   "cell_type": "code",
   "execution_count": 15,
   "metadata": {
    "scrolled": true
   },
   "outputs": [
    {
     "ename": "ImportError",
     "evalue": "Pandas requires version '4.8.2' or newer of 'bs4' (version '4.5.3' currently installed).",
     "output_type": "error",
     "traceback": [
      "\u001b[1;31m---------------------------------------------------------------------------\u001b[0m",
      "\u001b[1;31mImportError\u001b[0m                               Traceback (most recent call last)",
      "\u001b[1;32m<ipython-input-15-493d79fe9a18>\u001b[0m in \u001b[0;36m<module>\u001b[1;34m\u001b[0m\n\u001b[0;32m      4\u001b[0m \u001b[1;33m\u001b[0m\u001b[0m\n\u001b[0;32m      5\u001b[0m \u001b[0mssl\u001b[0m\u001b[1;33m.\u001b[0m\u001b[0m_create_default_https_context\u001b[0m \u001b[1;33m=\u001b[0m \u001b[0mssl\u001b[0m\u001b[1;33m.\u001b[0m\u001b[0m_create_unverified_context\u001b[0m\u001b[1;33m\u001b[0m\u001b[1;33m\u001b[0m\u001b[0m\n\u001b[1;32m----> 6\u001b[1;33m \u001b[0mdf_ph\u001b[0m\u001b[1;33m=\u001b[0m\u001b[0mpd\u001b[0m\u001b[1;33m.\u001b[0m\u001b[0mread_html\u001b[0m\u001b[1;33m(\u001b[0m\u001b[0murl_ph\u001b[0m\u001b[1;33m)\u001b[0m\u001b[1;33m\u001b[0m\u001b[1;33m\u001b[0m\u001b[0m\n\u001b[0m\u001b[0;32m      7\u001b[0m \u001b[0mdf_ph\u001b[0m\u001b[1;33m\u001b[0m\u001b[1;33m\u001b[0m\u001b[0m\n",
      "\u001b[1;32mC:\\Users\\Public\\condaa\\lib\\site-packages\\pandas\\util\\_decorators.py\u001b[0m in \u001b[0;36mwrapper\u001b[1;34m(*args, **kwargs)\u001b[0m\n\u001b[0;32m    309\u001b[0m                     \u001b[0mstacklevel\u001b[0m\u001b[1;33m=\u001b[0m\u001b[0mstacklevel\u001b[0m\u001b[1;33m,\u001b[0m\u001b[1;33m\u001b[0m\u001b[1;33m\u001b[0m\u001b[0m\n\u001b[0;32m    310\u001b[0m                 )\n\u001b[1;32m--> 311\u001b[1;33m             \u001b[1;32mreturn\u001b[0m \u001b[0mfunc\u001b[0m\u001b[1;33m(\u001b[0m\u001b[1;33m*\u001b[0m\u001b[0margs\u001b[0m\u001b[1;33m,\u001b[0m \u001b[1;33m**\u001b[0m\u001b[0mkwargs\u001b[0m\u001b[1;33m)\u001b[0m\u001b[1;33m\u001b[0m\u001b[1;33m\u001b[0m\u001b[0m\n\u001b[0m\u001b[0;32m    312\u001b[0m \u001b[1;33m\u001b[0m\u001b[0m\n\u001b[0;32m    313\u001b[0m         \u001b[1;32mreturn\u001b[0m \u001b[0mwrapper\u001b[0m\u001b[1;33m\u001b[0m\u001b[1;33m\u001b[0m\u001b[0m\n",
      "\u001b[1;32mC:\\Users\\Public\\condaa\\lib\\site-packages\\pandas\\io\\html.py\u001b[0m in \u001b[0;36mread_html\u001b[1;34m(io, match, flavor, header, index_col, skiprows, attrs, parse_dates, thousands, encoding, decimal, converters, na_values, keep_default_na, displayed_only)\u001b[0m\n\u001b[0;32m   1111\u001b[0m     \u001b[0mio\u001b[0m \u001b[1;33m=\u001b[0m \u001b[0mstringify_path\u001b[0m\u001b[1;33m(\u001b[0m\u001b[0mio\u001b[0m\u001b[1;33m)\u001b[0m\u001b[1;33m\u001b[0m\u001b[1;33m\u001b[0m\u001b[0m\n\u001b[0;32m   1112\u001b[0m \u001b[1;33m\u001b[0m\u001b[0m\n\u001b[1;32m-> 1113\u001b[1;33m     return _parse(\n\u001b[0m\u001b[0;32m   1114\u001b[0m         \u001b[0mflavor\u001b[0m\u001b[1;33m=\u001b[0m\u001b[0mflavor\u001b[0m\u001b[1;33m,\u001b[0m\u001b[1;33m\u001b[0m\u001b[1;33m\u001b[0m\u001b[0m\n\u001b[0;32m   1115\u001b[0m         \u001b[0mio\u001b[0m\u001b[1;33m=\u001b[0m\u001b[0mio\u001b[0m\u001b[1;33m,\u001b[0m\u001b[1;33m\u001b[0m\u001b[1;33m\u001b[0m\u001b[0m\n",
      "\u001b[1;32mC:\\Users\\Public\\condaa\\lib\\site-packages\\pandas\\io\\html.py\u001b[0m in \u001b[0;36m_parse\u001b[1;34m(flavor, io, match, attrs, encoding, displayed_only, **kwargs)\u001b[0m\n\u001b[0;32m    913\u001b[0m     \u001b[0mretained\u001b[0m \u001b[1;33m=\u001b[0m \u001b[1;32mNone\u001b[0m\u001b[1;33m\u001b[0m\u001b[1;33m\u001b[0m\u001b[0m\n\u001b[0;32m    914\u001b[0m     \u001b[1;32mfor\u001b[0m \u001b[0mflav\u001b[0m \u001b[1;32min\u001b[0m \u001b[0mflavor\u001b[0m\u001b[1;33m:\u001b[0m\u001b[1;33m\u001b[0m\u001b[1;33m\u001b[0m\u001b[0m\n\u001b[1;32m--> 915\u001b[1;33m         \u001b[0mparser\u001b[0m \u001b[1;33m=\u001b[0m \u001b[0m_parser_dispatch\u001b[0m\u001b[1;33m(\u001b[0m\u001b[0mflav\u001b[0m\u001b[1;33m)\u001b[0m\u001b[1;33m\u001b[0m\u001b[1;33m\u001b[0m\u001b[0m\n\u001b[0m\u001b[0;32m    916\u001b[0m         \u001b[0mp\u001b[0m \u001b[1;33m=\u001b[0m \u001b[0mparser\u001b[0m\u001b[1;33m(\u001b[0m\u001b[0mio\u001b[0m\u001b[1;33m,\u001b[0m \u001b[0mcompiled_match\u001b[0m\u001b[1;33m,\u001b[0m \u001b[0mattrs\u001b[0m\u001b[1;33m,\u001b[0m \u001b[0mencoding\u001b[0m\u001b[1;33m,\u001b[0m \u001b[0mdisplayed_only\u001b[0m\u001b[1;33m)\u001b[0m\u001b[1;33m\u001b[0m\u001b[1;33m\u001b[0m\u001b[0m\n\u001b[0;32m    917\u001b[0m \u001b[1;33m\u001b[0m\u001b[0m\n",
      "\u001b[1;32mC:\\Users\\Public\\condaa\\lib\\site-packages\\pandas\\io\\html.py\u001b[0m in \u001b[0;36m_parser_dispatch\u001b[1;34m(flavor)\u001b[0m\n\u001b[0;32m    866\u001b[0m             \u001b[1;32mraise\u001b[0m \u001b[0mImportError\u001b[0m\u001b[1;33m(\u001b[0m\u001b[1;34m\"BeautifulSoup4 (bs4) not found, please install it\"\u001b[0m\u001b[1;33m)\u001b[0m\u001b[1;33m\u001b[0m\u001b[1;33m\u001b[0m\u001b[0m\n\u001b[0;32m    867\u001b[0m         \u001b[1;31m# Although we call this above, we want to raise here right before use.\u001b[0m\u001b[1;33m\u001b[0m\u001b[1;33m\u001b[0m\u001b[1;33m\u001b[0m\u001b[0m\n\u001b[1;32m--> 868\u001b[1;33m         \u001b[0mbs4\u001b[0m \u001b[1;33m=\u001b[0m \u001b[0mimport_optional_dependency\u001b[0m\u001b[1;33m(\u001b[0m\u001b[1;34m\"bs4\"\u001b[0m\u001b[1;33m)\u001b[0m  \u001b[1;31m# noqa:F841\u001b[0m\u001b[1;33m\u001b[0m\u001b[1;33m\u001b[0m\u001b[0m\n\u001b[0m\u001b[0;32m    869\u001b[0m \u001b[1;33m\u001b[0m\u001b[0m\n\u001b[0;32m    870\u001b[0m     \u001b[1;32melse\u001b[0m\u001b[1;33m:\u001b[0m\u001b[1;33m\u001b[0m\u001b[1;33m\u001b[0m\u001b[0m\n",
      "\u001b[1;32mC:\\Users\\Public\\condaa\\lib\\site-packages\\pandas\\compat\\_optional.py\u001b[0m in \u001b[0;36mimport_optional_dependency\u001b[1;34m(name, extra, errors, min_version)\u001b[0m\n\u001b[0;32m    162\u001b[0m                 \u001b[1;32mreturn\u001b[0m \u001b[1;32mNone\u001b[0m\u001b[1;33m\u001b[0m\u001b[1;33m\u001b[0m\u001b[0m\n\u001b[0;32m    163\u001b[0m             \u001b[1;32melif\u001b[0m \u001b[0merrors\u001b[0m \u001b[1;33m==\u001b[0m \u001b[1;34m\"raise\"\u001b[0m\u001b[1;33m:\u001b[0m\u001b[1;33m\u001b[0m\u001b[1;33m\u001b[0m\u001b[0m\n\u001b[1;32m--> 164\u001b[1;33m                 \u001b[1;32mraise\u001b[0m \u001b[0mImportError\u001b[0m\u001b[1;33m(\u001b[0m\u001b[0mmsg\u001b[0m\u001b[1;33m)\u001b[0m\u001b[1;33m\u001b[0m\u001b[1;33m\u001b[0m\u001b[0m\n\u001b[0m\u001b[0;32m    165\u001b[0m \u001b[1;33m\u001b[0m\u001b[0m\n\u001b[0;32m    166\u001b[0m     \u001b[1;32mreturn\u001b[0m \u001b[0mmodule\u001b[0m\u001b[1;33m\u001b[0m\u001b[1;33m\u001b[0m\u001b[0m\n",
      "\u001b[1;31mImportError\u001b[0m: Pandas requires version '4.8.2' or newer of 'bs4' (version '4.5.3' currently installed)."
     ]
    }
   ],
   "source": [
    "import pandas as pd\n",
    "import html5lib\n",
    "import ssl\n",
    "\n",
    "ssl._create_default_https_context = ssl._create_unverified_context\n",
    "df_ph=pd.read_html(url_ph)\n",
    "df_ph"
   ]
  },
  {
   "cell_type": "code",
   "execution_count": 13,
   "metadata": {},
   "outputs": [
    {
     "name": "stdout",
     "output_type": "stream",
     "text": [
      "[           0                                         1\n",
      "0       Type                 FurnitureCrafting station\n",
      "1  Placeable                      ✔️ (3 wide × 2 high)\n",
      "2   Use time                            15 (Very fast)\n",
      "3    Tooltip  Allows the combining of some accessories\n",
      "4     Rarity                                       NaN\n",
      "5        Buy                                        10\n",
      "6       Sell                                         2\n",
      "7   Research                                1 required,                                                      0  \\\n",
      "0    Tinkerer's WorkshopResultIngredientsAmber Hors...   \n",
      "1                                               Result   \n",
      "2                              Amber Horseshoe Balloon   \n",
      "3                                      Amphibian Boots   \n",
      "4                                    Angler Tackle Bag   \n",
      "..                                                 ...   \n",
      "114                                           Yoyo Bag   \n",
      "115                                           Yoyo Bag   \n",
      "116                                           Yoyo Bag   \n",
      "117                                           Yoyo Bag   \n",
      "118                                           Yoyo Bag   \n",
      "\n",
      "                                                  1  \n",
      "0                                               NaN  \n",
      "1                                       Ingredients  \n",
      "2                      Honey BalloonLucky Horseshoe  \n",
      "3                            Sailfish BootsFrog Leg  \n",
      "4    High Test Fishing LineTackle BoxAngler Earring  \n",
      "..                                              ...  \n",
      "114        White StringYoyo GloveBlue Counterweight  \n",
      "115       White StringYoyo GloveGreen Counterweight  \n",
      "116      White StringYoyo GlovePurple Counterweight  \n",
      "117         White StringYoyo GloveRed Counterweight  \n",
      "118      White StringYoyo GloveYellow Counterweight  \n",
      "\n",
      "[119 rows x 2 columns],                       Result  \\\n",
      "0    Amber Horseshoe Balloon   \n",
      "1            Amphibian Boots   \n",
      "2          Angler Tackle Bag   \n",
      "3                 Ankh Charm   \n",
      "4                Ankh Shield   \n",
      "..                       ...   \n",
      "112                 Yoyo Bag   \n",
      "113                 Yoyo Bag   \n",
      "114                 Yoyo Bag   \n",
      "115                 Yoyo Bag   \n",
      "116                 Yoyo Bag   \n",
      "\n",
      "                                           Ingredients  \n",
      "0                         Honey BalloonLucky Horseshoe  \n",
      "1                               Sailfish BootsFrog Leg  \n",
      "2       High Test Fishing LineTackle BoxAngler Earring  \n",
      "3    Armor BracingMedicated BandageThe PlanCounterc...  \n",
      "4                            Obsidian ShieldAnkh Charm  \n",
      "..                                                 ...  \n",
      "112           White StringYoyo GloveBlue Counterweight  \n",
      "113          White StringYoyo GloveGreen Counterweight  \n",
      "114         White StringYoyo GlovePurple Counterweight  \n",
      "115            White StringYoyo GloveRed Counterweight  \n",
      "116         White StringYoyo GloveYellow Counterweight  \n",
      "\n",
      "[117 rows x 2 columns],                                                    0  \\\n",
      "0  Tinkerer's Workshop and Ecto MistResultIngredi...   \n",
      "1                                             Result   \n",
      "2                               Band of Starpower ()   \n",
      "3                              Music Box (Alt Title)   \n",
      "4                                  Panic Necklace ()   \n",
      "\n",
      "                                                   1  \n",
      "0                                                NaN  \n",
      "1                                        Ingredients  \n",
      "2                         Panic NecklaceMana Crystal  \n",
      "3  Music Box (Desert)Music Box (Ice)Music Box (Sp...  \n",
      "4                      Band of StarpowerLife Crystal  ,                   Result                                        Ingredients\n",
      "0   Band of Starpower ()                         Panic NecklaceMana Crystal\n",
      "1  Music Box (Alt Title)  Music Box (Desert)Music Box (Ice)Music Box (Sp...\n",
      "2      Panic Necklace ()                      Band of StarpowerLife Crystal]\n"
     ]
    },
    {
     "data": {
      "text/plain": [
       "'for i in range(len(df_t)):\\n    df_t[i]'"
      ]
     },
     "execution_count": 13,
     "metadata": {},
     "output_type": "execute_result"
    }
   ],
   "source": [
    "df_t =pd.read_html(url_t)\n",
    "\n",
    "print(df_t)\n",
    "\n",
    "\"\"\"for i in range(len(df_t)):\n",
    "    df_t[i]\"\"\""
   ]
  },
  {
   "cell_type": "markdown",
   "metadata": {},
   "source": [
    "## Problem is that the incrediants are all clumped together"
   ]
  },
  {
   "cell_type": "code",
   "execution_count": 13,
   "metadata": {},
   "outputs": [],
   "source": [
    "#https://github.com/yuanxu-li/html-table-extractor\n",
    "\n",
    "import requests\n",
    "\n",
    "page=requests.get(url_t)"
   ]
  },
  {
   "cell_type": "code",
   "execution_count": null,
   "metadata": {},
   "outputs": [],
   "source": [
    "from html_table_extractor.extractor import Extractor as ext\n",
    "\n",
    "extractor = ext(page.content)\n",
    "extractor.parse()\n",
    "extractor.return_list()"
   ]
  },
  {
   "cell_type": "code",
   "execution_count": 10,
   "metadata": {},
   "outputs": [
    {
     "data": {
      "text/plain": [
       "<html_table_extractor.extractor.Extractor at 0x260c56c3400>"
      ]
     },
     "execution_count": 10,
     "metadata": {},
     "output_type": "execute_result"
    },
    {
     "data": {
      "text/plain": [
       "[['1', '2'], ['3', '4']]"
      ]
     },
     "execution_count": 10,
     "metadata": {},
     "output_type": "execute_result"
    }
   ],
   "source": [
    "from html_table_extractor.extractor import Extractor\n",
    "table_doc = \"\"\"\n",
    "<table><tr><td>1</td><td>2</td></tr><tr><td>3</td><td>4</td></tr></table>\n",
    "\"\"\"\n",
    "extractor = Extractor(table_doc)\n",
    "extractor.parse()\n",
    "extractor.return_list()"
   ]
  },
  {
   "cell_type": "code",
   "execution_count": null,
   "metadata": {},
   "outputs": [],
   "source": []
  },
  {
   "cell_type": "code",
   "execution_count": null,
   "metadata": {},
   "outputs": [],
   "source": []
  }
 ],
 "metadata": {
  "kernelspec": {
   "display_name": "Python 3",
   "language": "python",
   "name": "python3"
  },
  "language_info": {
   "codemirror_mode": {
    "name": "ipython",
    "version": 3
   },
   "file_extension": ".py",
   "mimetype": "text/x-python",
   "name": "python",
   "nbconvert_exporter": "python",
   "pygments_lexer": "ipython3",
   "version": "3.8.5"
  }
 },
 "nbformat": 4,
 "nbformat_minor": 5
}
