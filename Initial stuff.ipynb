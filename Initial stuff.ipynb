{
 "cells": [
  {
   "cell_type": "markdown",
   "id": "19961ca6",
   "metadata": {},
   "source": [
    "# Idea\n",
    "\n",
    "Want to create a program which can tell me what items from the tinkers workship can be created in prehardmode"
   ]
  },
  {
   "cell_type": "markdown",
   "id": "ae63c9aa",
   "metadata": {},
   "source": [
    "Steps:\n",
    "\n",
    "- get list of prehard mode only items\n",
    "- get list of hardmode only items\n",
    "- get recipies from tinkers workshop\n",
    "- add if ingredient is a prehard mode or hardmode item\n",
    "- if all ingred are prehard more then result is prehardmode item\n",
    "\n",
    "end phase 1- just list of the prehardmode results with reciepies\n",
    "\n",
    "end phase 2- type items into and get result\n",
    "\n",
    "end phase 3- itendify the missing items for results with links to corresponding objects\n"
   ]
  },
  {
   "cell_type": "code",
   "execution_count": 1,
   "id": "72a99e32",
   "metadata": {},
   "outputs": [],
   "source": [
    "#allow code blocks to display multiple outputs in single block\n",
    "from IPython.core.interactiveshell import InteractiveShell\n",
    "InteractiveShell.ast_node_interactivity = \"all\""
   ]
  },
  {
   "cell_type": "code",
   "execution_count": 2,
   "id": "868810a9",
   "metadata": {},
   "outputs": [],
   "source": [
    "url = 'http://books.toscrape.com/catalogue/a-light-in-the-attic_1000/index.html'\n",
    "url_ph='https://terraria.fandom.com/wiki/Pre-Hardmode_items'\n",
    "url_t='https://terraria.fandom.com/wiki/Tinkerer%27s_Workshop'"
   ]
  },
  {
   "cell_type": "markdown",
   "id": "f45f32d8",
   "metadata": {},
   "source": [
    "# Test"
   ]
  },
  {
   "cell_type": "code",
   "execution_count": null,
   "id": "0e5a4342",
   "metadata": {},
   "outputs": [],
   "source": []
  },
  {
   "cell_type": "code",
   "execution_count": 3,
   "id": "525ee529",
   "metadata": {},
   "outputs": [],
   "source": [
    "#mode==0 means pre hard mode, #mode ==1, hardmode\n",
    "\n",
    "goalitemID_MODE={ #  OBJ#:{\"ID\": <int>, \"Name\": <str>, \"Internal Name\": <str>, \"Mode\" = boolean}\n",
    "    1: {\"Name\": \"Iron Pickaxe\",  \"Internal Name\": \"IronPickaxe\", \"mode\": 0}\n",
    "}\n",
    "\n",
    "itemID= { # item ID: P{}\n",
    "    1: {\"Name\": \"Iron Pickaxe\",  \"Internal Name\": \"IronPickaxe\"},\n",
    "    2 :{\"Name\": \"Dirt Block\",  \"Internal Name\": \"DirtBlock\"}\n",
    "    \n",
    "}\n",
    "\n",
    "itemMODE = {\n",
    "    4: {\"Name\": \"Iron Pickaxe\", \"mode\":0}\n",
    "\n",
    "}"
   ]
  },
  {
   "cell_type": "code",
   "execution_count": 4,
   "id": "bde81ad1",
   "metadata": {
    "scrolled": false
   },
   "outputs": [
    {
     "data": {
      "text/plain": [
       "'# https://www.learnbyexample.org/python-nested-dictionary/#:~:text=Merge%20Two%20Nested%20Dictionaries%20Use%20the%20built-in%20update,of%20the%20same%20key%20if%20there%E2%80%99s%20a%20clash.\\nIDs=[]\\nfor i in len(itemID):\\n    IDS[i]=itemID[i][\"ID\"]\\n'"
      ]
     },
     "execution_count": 4,
     "metadata": {},
     "output_type": "execute_result"
    }
   ],
   "source": [
    "\"\"\"# https://www.learnbyexample.org/python-nested-dictionary/#:~:text=Merge%20Two%20Nested%20Dictionaries%20Use%20the%20built-in%20update,of%20the%20same%20key%20if%20there%E2%80%99s%20a%20clash.\n",
    "IDs=[]\n",
    "for i in len(itemID):\n",
    "    IDS[i]=itemID[i][\"ID\"]\n",
    "\"\"\""
   ]
  },
  {
   "cell_type": "markdown",
   "id": "5b6790fb",
   "metadata": {},
   "source": [
    "# scraper\n"
   ]
  },
  {
   "cell_type": "markdown",
   "id": "fe2ae91e",
   "metadata": {},
   "source": [
    "https://stackoverflow.com/questions/42863834/how-to-scrape-data-from-html-table-in-python\n",
    "\n",
    "\n",
    "https://stackoverflow.com/questions/17126686/extracting-data-from-html-with-python#:~:text=tabulka%20%3D%20subpage.find%20%28%22table%22%29%20for%20row%20in%20tabulka.findAll,array.%20Html%20above%20is%20a%20result%20from%20python.\n",
    "\n",
    "https://www.geeksforgeeks.org/rule-based-data-extraction-in-html-using-python-textminer-module/\n",
    "\n"
   ]
  },
  {
   "cell_type": "code",
   "execution_count": 5,
   "id": "0b86e460",
   "metadata": {},
   "outputs": [],
   "source": [
    "# website test\n",
    "# http://books.toscrape.com/catalogue/a-light-in-the-attic_1000/index.html"
   ]
  },
  {
   "cell_type": "code",
   "execution_count": 6,
   "id": "7143190f",
   "metadata": {},
   "outputs": [
    {
     "name": "stdout",
     "output_type": "stream",
     "text": [
      "4.10.0\n",
      "1.3.4\n"
     ]
    }
   ],
   "source": [
    "import pandas as pd #1.3.4\n",
    "import bs4 #4.10.0\n",
    "print(bs4.__version__)\n",
    "print(pd.__version__)"
   ]
  },
  {
   "cell_type": "code",
   "execution_count": 7,
   "id": "f579fb7c",
   "metadata": {
    "scrolled": false
   },
   "outputs": [
    {
     "ename": "ValueError",
     "evalue": "No tables found",
     "output_type": "error",
     "traceback": [
      "\u001b[1;31m---------------------------------------------------------------------------\u001b[0m",
      "\u001b[1;31mValueError\u001b[0m                                Traceback (most recent call last)",
      "\u001b[1;32mC:\\Users\\I5PC~1\\AppData\\Local\\Temp/ipykernel_2764/1758245634.py\u001b[0m in \u001b[0;36m<module>\u001b[1;34m\u001b[0m\n\u001b[0;32m      4\u001b[0m \u001b[1;33m\u001b[0m\u001b[0m\n\u001b[0;32m      5\u001b[0m \u001b[0mssl\u001b[0m\u001b[1;33m.\u001b[0m\u001b[0m_create_default_https_context\u001b[0m \u001b[1;33m=\u001b[0m \u001b[0mssl\u001b[0m\u001b[1;33m.\u001b[0m\u001b[0m_create_unverified_context\u001b[0m\u001b[1;33m\u001b[0m\u001b[1;33m\u001b[0m\u001b[0m\n\u001b[1;32m----> 6\u001b[1;33m \u001b[0mdf_ph\u001b[0m\u001b[1;33m=\u001b[0m\u001b[0mpd\u001b[0m\u001b[1;33m.\u001b[0m\u001b[0mread_html\u001b[0m\u001b[1;33m(\u001b[0m\u001b[0murl_ph\u001b[0m\u001b[1;33m)\u001b[0m\u001b[1;33m\u001b[0m\u001b[1;33m\u001b[0m\u001b[0m\n\u001b[0m\u001b[0;32m      7\u001b[0m \u001b[0mdf_ph\u001b[0m\u001b[1;33m\u001b[0m\u001b[1;33m\u001b[0m\u001b[0m\n",
      "\u001b[1;32mC:\\Users\\Public\\anaconda3\\lib\\site-packages\\pandas\\util\\_decorators.py\u001b[0m in \u001b[0;36mwrapper\u001b[1;34m(*args, **kwargs)\u001b[0m\n\u001b[0;32m    309\u001b[0m                     \u001b[0mstacklevel\u001b[0m\u001b[1;33m=\u001b[0m\u001b[0mstacklevel\u001b[0m\u001b[1;33m,\u001b[0m\u001b[1;33m\u001b[0m\u001b[1;33m\u001b[0m\u001b[0m\n\u001b[0;32m    310\u001b[0m                 )\n\u001b[1;32m--> 311\u001b[1;33m             \u001b[1;32mreturn\u001b[0m \u001b[0mfunc\u001b[0m\u001b[1;33m(\u001b[0m\u001b[1;33m*\u001b[0m\u001b[0margs\u001b[0m\u001b[1;33m,\u001b[0m \u001b[1;33m**\u001b[0m\u001b[0mkwargs\u001b[0m\u001b[1;33m)\u001b[0m\u001b[1;33m\u001b[0m\u001b[1;33m\u001b[0m\u001b[0m\n\u001b[0m\u001b[0;32m    312\u001b[0m \u001b[1;33m\u001b[0m\u001b[0m\n\u001b[0;32m    313\u001b[0m         \u001b[1;32mreturn\u001b[0m \u001b[0mwrapper\u001b[0m\u001b[1;33m\u001b[0m\u001b[1;33m\u001b[0m\u001b[0m\n",
      "\u001b[1;32mC:\\Users\\Public\\anaconda3\\lib\\site-packages\\pandas\\io\\html.py\u001b[0m in \u001b[0;36mread_html\u001b[1;34m(io, match, flavor, header, index_col, skiprows, attrs, parse_dates, thousands, encoding, decimal, converters, na_values, keep_default_na, displayed_only)\u001b[0m\n\u001b[0;32m   1096\u001b[0m     \u001b[0mio\u001b[0m \u001b[1;33m=\u001b[0m \u001b[0mstringify_path\u001b[0m\u001b[1;33m(\u001b[0m\u001b[0mio\u001b[0m\u001b[1;33m)\u001b[0m\u001b[1;33m\u001b[0m\u001b[1;33m\u001b[0m\u001b[0m\n\u001b[0;32m   1097\u001b[0m \u001b[1;33m\u001b[0m\u001b[0m\n\u001b[1;32m-> 1098\u001b[1;33m     return _parse(\n\u001b[0m\u001b[0;32m   1099\u001b[0m         \u001b[0mflavor\u001b[0m\u001b[1;33m=\u001b[0m\u001b[0mflavor\u001b[0m\u001b[1;33m,\u001b[0m\u001b[1;33m\u001b[0m\u001b[1;33m\u001b[0m\u001b[0m\n\u001b[0;32m   1100\u001b[0m         \u001b[0mio\u001b[0m\u001b[1;33m=\u001b[0m\u001b[0mio\u001b[0m\u001b[1;33m,\u001b[0m\u001b[1;33m\u001b[0m\u001b[1;33m\u001b[0m\u001b[0m\n",
      "\u001b[1;32mC:\\Users\\Public\\anaconda3\\lib\\site-packages\\pandas\\io\\html.py\u001b[0m in \u001b[0;36m_parse\u001b[1;34m(flavor, io, match, attrs, encoding, displayed_only, **kwargs)\u001b[0m\n\u001b[0;32m    924\u001b[0m     \u001b[1;32melse\u001b[0m\u001b[1;33m:\u001b[0m\u001b[1;33m\u001b[0m\u001b[1;33m\u001b[0m\u001b[0m\n\u001b[0;32m    925\u001b[0m         \u001b[1;32massert\u001b[0m \u001b[0mretained\u001b[0m \u001b[1;32mis\u001b[0m \u001b[1;32mnot\u001b[0m \u001b[1;32mNone\u001b[0m  \u001b[1;31m# for mypy\u001b[0m\u001b[1;33m\u001b[0m\u001b[1;33m\u001b[0m\u001b[0m\n\u001b[1;32m--> 926\u001b[1;33m         \u001b[1;32mraise\u001b[0m \u001b[0mretained\u001b[0m\u001b[1;33m\u001b[0m\u001b[1;33m\u001b[0m\u001b[0m\n\u001b[0m\u001b[0;32m    927\u001b[0m \u001b[1;33m\u001b[0m\u001b[0m\n\u001b[0;32m    928\u001b[0m     \u001b[0mret\u001b[0m \u001b[1;33m=\u001b[0m \u001b[1;33m[\u001b[0m\u001b[1;33m]\u001b[0m\u001b[1;33m\u001b[0m\u001b[1;33m\u001b[0m\u001b[0m\n",
      "\u001b[1;32mC:\\Users\\Public\\anaconda3\\lib\\site-packages\\pandas\\io\\html.py\u001b[0m in \u001b[0;36m_parse\u001b[1;34m(flavor, io, match, attrs, encoding, displayed_only, **kwargs)\u001b[0m\n\u001b[0;32m    904\u001b[0m \u001b[1;33m\u001b[0m\u001b[0m\n\u001b[0;32m    905\u001b[0m         \u001b[1;32mtry\u001b[0m\u001b[1;33m:\u001b[0m\u001b[1;33m\u001b[0m\u001b[1;33m\u001b[0m\u001b[0m\n\u001b[1;32m--> 906\u001b[1;33m             \u001b[0mtables\u001b[0m \u001b[1;33m=\u001b[0m \u001b[0mp\u001b[0m\u001b[1;33m.\u001b[0m\u001b[0mparse_tables\u001b[0m\u001b[1;33m(\u001b[0m\u001b[1;33m)\u001b[0m\u001b[1;33m\u001b[0m\u001b[1;33m\u001b[0m\u001b[0m\n\u001b[0m\u001b[0;32m    907\u001b[0m         \u001b[1;32mexcept\u001b[0m \u001b[0mValueError\u001b[0m \u001b[1;32mas\u001b[0m \u001b[0mcaught\u001b[0m\u001b[1;33m:\u001b[0m\u001b[1;33m\u001b[0m\u001b[1;33m\u001b[0m\u001b[0m\n\u001b[0;32m    908\u001b[0m             \u001b[1;31m# if `io` is an io-like object, check if it's seekable\u001b[0m\u001b[1;33m\u001b[0m\u001b[1;33m\u001b[0m\u001b[0m\n",
      "\u001b[1;32mC:\\Users\\Public\\anaconda3\\lib\\site-packages\\pandas\\io\\html.py\u001b[0m in \u001b[0;36mparse_tables\u001b[1;34m(self)\u001b[0m\n\u001b[0;32m    220\u001b[0m         \u001b[0mlist\u001b[0m \u001b[0mof\u001b[0m \u001b[0mparsed\u001b[0m \u001b[1;33m(\u001b[0m\u001b[0mheader\u001b[0m\u001b[1;33m,\u001b[0m \u001b[0mbody\u001b[0m\u001b[1;33m,\u001b[0m \u001b[0mfooter\u001b[0m\u001b[1;33m)\u001b[0m \u001b[0mtuples\u001b[0m \u001b[1;32mfrom\u001b[0m \u001b[0mtables\u001b[0m\u001b[1;33m.\u001b[0m\u001b[1;33m\u001b[0m\u001b[1;33m\u001b[0m\u001b[0m\n\u001b[0;32m    221\u001b[0m         \"\"\"\n\u001b[1;32m--> 222\u001b[1;33m         \u001b[0mtables\u001b[0m \u001b[1;33m=\u001b[0m \u001b[0mself\u001b[0m\u001b[1;33m.\u001b[0m\u001b[0m_parse_tables\u001b[0m\u001b[1;33m(\u001b[0m\u001b[0mself\u001b[0m\u001b[1;33m.\u001b[0m\u001b[0m_build_doc\u001b[0m\u001b[1;33m(\u001b[0m\u001b[1;33m)\u001b[0m\u001b[1;33m,\u001b[0m \u001b[0mself\u001b[0m\u001b[1;33m.\u001b[0m\u001b[0mmatch\u001b[0m\u001b[1;33m,\u001b[0m \u001b[0mself\u001b[0m\u001b[1;33m.\u001b[0m\u001b[0mattrs\u001b[0m\u001b[1;33m)\u001b[0m\u001b[1;33m\u001b[0m\u001b[1;33m\u001b[0m\u001b[0m\n\u001b[0m\u001b[0;32m    223\u001b[0m         \u001b[1;32mreturn\u001b[0m \u001b[1;33m(\u001b[0m\u001b[0mself\u001b[0m\u001b[1;33m.\u001b[0m\u001b[0m_parse_thead_tbody_tfoot\u001b[0m\u001b[1;33m(\u001b[0m\u001b[0mtable\u001b[0m\u001b[1;33m)\u001b[0m \u001b[1;32mfor\u001b[0m \u001b[0mtable\u001b[0m \u001b[1;32min\u001b[0m \u001b[0mtables\u001b[0m\u001b[1;33m)\u001b[0m\u001b[1;33m\u001b[0m\u001b[1;33m\u001b[0m\u001b[0m\n\u001b[0;32m    224\u001b[0m \u001b[1;33m\u001b[0m\u001b[0m\n",
      "\u001b[1;32mC:\\Users\\Public\\anaconda3\\lib\\site-packages\\pandas\\io\\html.py\u001b[0m in \u001b[0;36m_parse_tables\u001b[1;34m(self, doc, match, attrs)\u001b[0m\n\u001b[0;32m    550\u001b[0m \u001b[1;33m\u001b[0m\u001b[0m\n\u001b[0;32m    551\u001b[0m         \u001b[1;32mif\u001b[0m \u001b[1;32mnot\u001b[0m \u001b[0mtables\u001b[0m\u001b[1;33m:\u001b[0m\u001b[1;33m\u001b[0m\u001b[1;33m\u001b[0m\u001b[0m\n\u001b[1;32m--> 552\u001b[1;33m             \u001b[1;32mraise\u001b[0m \u001b[0mValueError\u001b[0m\u001b[1;33m(\u001b[0m\u001b[1;34m\"No tables found\"\u001b[0m\u001b[1;33m)\u001b[0m\u001b[1;33m\u001b[0m\u001b[1;33m\u001b[0m\u001b[0m\n\u001b[0m\u001b[0;32m    553\u001b[0m \u001b[1;33m\u001b[0m\u001b[0m\n\u001b[0;32m    554\u001b[0m         \u001b[0mresult\u001b[0m \u001b[1;33m=\u001b[0m \u001b[1;33m[\u001b[0m\u001b[1;33m]\u001b[0m\u001b[1;33m\u001b[0m\u001b[1;33m\u001b[0m\u001b[0m\n",
      "\u001b[1;31mValueError\u001b[0m: No tables found"
     ]
    }
   ],
   "source": [
    "import pandas as pd\n",
    "import html5lib\n",
    "import ssl\n",
    "\n",
    "ssl._create_default_https_context = ssl._create_unverified_context\n",
    "df_ph=pd.read_html(url_ph)\n",
    "df_ph"
   ]
  },
  {
   "cell_type": "code",
   "execution_count": 8,
   "id": "237a78b7",
   "metadata": {},
   "outputs": [
    {
     "name": "stdout",
     "output_type": "stream",
     "text": [
      "[           0                                         1\n",
      "0       Type                 FurnitureCrafting station\n",
      "1  Placeable                      ✔️ (3 wide × 2 high)\n",
      "2   Use time                            15 (Very fast)\n",
      "3    Tooltip  Allows the combining of some accessories\n",
      "4     Rarity                                       NaN\n",
      "5        Buy                                        10\n",
      "6       Sell                                         2\n",
      "7   Research                                1 required,                                                      0  \\\n",
      "0    Tinkerer's WorkshopResultIngredientsAmber Hors...   \n",
      "1                                               Result   \n",
      "2                              Amber Horseshoe Balloon   \n",
      "3                                      Amphibian Boots   \n",
      "4                                    Angler Tackle Bag   \n",
      "..                                                 ...   \n",
      "114                                           Yoyo Bag   \n",
      "115                                           Yoyo Bag   \n",
      "116                                           Yoyo Bag   \n",
      "117                                           Yoyo Bag   \n",
      "118                                           Yoyo Bag   \n",
      "\n",
      "                                                  1  \n",
      "0                                               NaN  \n",
      "1                                       Ingredients  \n",
      "2                      Honey BalloonLucky Horseshoe  \n",
      "3                            Sailfish BootsFrog Leg  \n",
      "4    High Test Fishing LineTackle BoxAngler Earring  \n",
      "..                                              ...  \n",
      "114        White StringYoyo GloveBlue Counterweight  \n",
      "115       White StringYoyo GloveGreen Counterweight  \n",
      "116      White StringYoyo GlovePurple Counterweight  \n",
      "117         White StringYoyo GloveRed Counterweight  \n",
      "118      White StringYoyo GloveYellow Counterweight  \n",
      "\n",
      "[119 rows x 2 columns],                       Result  \\\n",
      "0    Amber Horseshoe Balloon   \n",
      "1            Amphibian Boots   \n",
      "2          Angler Tackle Bag   \n",
      "3                 Ankh Charm   \n",
      "4                Ankh Shield   \n",
      "..                       ...   \n",
      "112                 Yoyo Bag   \n",
      "113                 Yoyo Bag   \n",
      "114                 Yoyo Bag   \n",
      "115                 Yoyo Bag   \n",
      "116                 Yoyo Bag   \n",
      "\n",
      "                                           Ingredients  \n",
      "0                         Honey BalloonLucky Horseshoe  \n",
      "1                               Sailfish BootsFrog Leg  \n",
      "2       High Test Fishing LineTackle BoxAngler Earring  \n",
      "3    Armor BracingMedicated BandageThe PlanCounterc...  \n",
      "4                            Obsidian ShieldAnkh Charm  \n",
      "..                                                 ...  \n",
      "112           White StringYoyo GloveBlue Counterweight  \n",
      "113          White StringYoyo GloveGreen Counterweight  \n",
      "114         White StringYoyo GlovePurple Counterweight  \n",
      "115            White StringYoyo GloveRed Counterweight  \n",
      "116         White StringYoyo GloveYellow Counterweight  \n",
      "\n",
      "[117 rows x 2 columns],                                                    0  \\\n",
      "0  Tinkerer's Workshop and Ecto MistResultIngredi...   \n",
      "1                                             Result   \n",
      "2                               Band of Starpower ()   \n",
      "3                              Music Box (Alt Title)   \n",
      "4                                  Panic Necklace ()   \n",
      "\n",
      "                                                   1  \n",
      "0                                                NaN  \n",
      "1                                        Ingredients  \n",
      "2                         Panic NecklaceMana Crystal  \n",
      "3  Music Box (Desert)Music Box (Ice)Music Box (Sp...  \n",
      "4                      Band of StarpowerLife Crystal  ,                   Result                                        Ingredients\n",
      "0   Band of Starpower ()                         Panic NecklaceMana Crystal\n",
      "1  Music Box (Alt Title)  Music Box (Desert)Music Box (Ice)Music Box (Sp...\n",
      "2      Panic Necklace ()                      Band of StarpowerLife Crystal]\n"
     ]
    },
    {
     "data": {
      "text/plain": [
       "'for i in range(len(df_t)):\\n    df_t[i]'"
      ]
     },
     "execution_count": 8,
     "metadata": {},
     "output_type": "execute_result"
    }
   ],
   "source": [
    "df_t =pd.read_html(url_t)\n",
    "\n",
    "print(df_t)\n",
    "\n",
    "\"\"\"for i in range(len(df_t)):\n",
    "    df_t[i]\"\"\""
   ]
  },
  {
   "cell_type": "markdown",
   "id": "46ecb365",
   "metadata": {},
   "source": [
    "## Problem is that the incrediants are all clumped together"
   ]
  },
  {
   "cell_type": "code",
   "execution_count": null,
   "id": "08ef26ae",
   "metadata": {},
   "outputs": [],
   "source": []
  },
  {
   "cell_type": "code",
   "execution_count": null,
   "id": "6233bc27",
   "metadata": {},
   "outputs": [],
   "source": []
  }
 ],
 "metadata": {
  "kernelspec": {
   "display_name": "Python 3 (ipykernel)",
   "language": "python",
   "name": "python3"
  },
  "language_info": {
   "codemirror_mode": {
    "name": "ipython",
    "version": 3
   },
   "file_extension": ".py",
   "mimetype": "text/x-python",
   "name": "python",
   "nbconvert_exporter": "python",
   "pygments_lexer": "ipython3",
   "version": "3.9.7"
  }
 },
 "nbformat": 4,
 "nbformat_minor": 5
}
